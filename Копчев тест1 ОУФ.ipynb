{
 "cells": [
  {
   "cell_type": "markdown",
   "id": "b1e407ac-197f-47cb-8f64-c3d8959b4441",
   "metadata": {},
   "source": [
    "## Тест 1\n",
    "\n",
    "Копчев Владислав, 197"
   ]
  },
  {
   "cell_type": "markdown",
   "id": "9b5e9998-80c1-427d-a973-0f622514afa8",
   "metadata": {},
   "source": [
    "#### Задание 1."
   ]
  },
  {
   "cell_type": "markdown",
   "id": "3fc56429-7ee1-44ff-853b-2ed296d6a29e",
   "metadata": {},
   "source": [
    "Мы знаем рекуррентную формулу $X_n = 3X_{n-1} + 5X_{n-2} \\mod n$ и начальные условия $X_1, X_2$. Напишем функцию, которая реализует рекуррентную формулу и выведем ответ."
   ]
  },
  {
   "cell_type": "code",
   "execution_count": 1,
   "id": "0bbe5b51-5fff-41e3-8c03-96f202d8daff",
   "metadata": {},
   "outputs": [],
   "source": [
    "def x(n):\n",
    "    if n == 1:\n",
    "        return 23\n",
    "    elif n == 2:\n",
    "        return 66\n",
    "    else:\n",
    "        return (3 * x(n-1) + 5 * x(n-2)) % 100"
   ]
  },
  {
   "cell_type": "code",
   "execution_count": 2,
   "id": "45bb860c-33e6-453f-a977-32f097afcaf6",
   "metadata": {},
   "outputs": [
    {
     "name": "stdout",
     "output_type": "stream",
     "text": [
      "1 0.23\n",
      "2 0.66\n",
      "3 0.13\n",
      "4 0.69\n",
      "5 0.72\n",
      "6 0.61\n",
      "7 0.43\n",
      "8 0.34\n",
      "9 0.17\n",
      "10 0.21\n",
      "11 0.48\n",
      "12 0.49\n",
      "13 0.87\n",
      "14 0.06\n"
     ]
    }
   ],
   "source": [
    "xs= []\n",
    "for i in range(1, 15):\n",
    "    print(i, x(i) / 100)\n",
    "    xs.append(x(i) / 100)"
   ]
  },
  {
   "cell_type": "markdown",
   "id": "85191b57-8853-4ec2-b765-11920c717229",
   "metadata": {},
   "source": [
    "Проверим на графике, похожа ли наша последовательность $X_n$ на последовательность равномерно распределенных на $[0, 1]$ чисел:"
   ]
  },
  {
   "cell_type": "code",
   "execution_count": 3,
   "id": "2a429963-b28e-41e4-a648-0f578a475e79",
   "metadata": {},
   "outputs": [
    {
     "data": {
      "image/png": "[encoded data removed]",
      "text/plain": [
       "<Figure size 432x288 with 1 Axes>"
      ]
     },
     "metadata": {
      "needs_background": "light"
     },
     "output_type": "display_data"
    }
   ],
   "source": [
    "import matplotlib.pyplot as plt\n",
    "import numpy as np\n",
    "\n",
    "a = xs\n",
    "\n",
    "plt.hlines(1,1,20)  # Draw a horizontal line\n",
    "plt.xlim(0,1)\n",
    "plt.ylim(0.5,1.5)\n",
    "\n",
    "y = np.ones(np.shape(a))   # Make all y values the same\n",
    "plt.plot(a,y,'|',ms = 40)  # Plot a line at each location specified in a\n",
    "plt.axis('off')\n",
    "plt.show()"
   ]
  },
  {
   "cell_type": "code",
   "execution_count": 4,
   "id": "153a90c5-e915-4461-9072-54f61261f32d",
   "metadata": {},
   "outputs": [
    {
     "data": {
      "text/plain": [
       "(array([2., 2., 1., 1., 1., 2., 1., 2., 1., 1.]),\n",
       " array([0.06 , 0.141, 0.222, 0.303, 0.384, 0.465, 0.546, 0.627, 0.708,\n",
       "        0.789, 0.87 ]),\n",
       " <BarContainer object of 10 artists>)"
      ]
     },
     "execution_count": 4,
     "metadata": {},
     "output_type": "execute_result"
    },
    {
     "data": {
      "image/png": "[encoded data removed]",
      "text/plain": [
       "<Figure size 432x288 with 1 Axes>"
      ]
     },
     "metadata": {
      "needs_background": "light"
     },
     "output_type": "display_data"
    }
   ],
   "source": [
    "plt.hist(a)"
   ]
  },
  {
   "cell_type": "markdown",
   "id": "f999eebf-37f6-4859-b873-9016493fc96c",
   "metadata": {},
   "source": [
    "Итог: более-менее похожа (учитывая то, что в последовательности всего 14 элементов)."
   ]
  },
  {
   "cell_type": "markdown",
   "id": "2396b50d-e845-4a08-9f55-b792e06f25fa",
   "metadata": {},
   "source": [
    "#### Задание 2."
   ]
  },
  {
   "cell_type": "markdown",
   "id": "f98b3f9d-7b76-4ae8-b814-b96ea1b39a85",
   "metadata": {},
   "source": [
    "Как сказано в лекциях, алгоритм непрерывного обратного преобразования таков:\n",
    "\n",
    "1. Берем случайную величину $X \\sim F, F(x) = \\int_{-\\infty}^x \\rho(t)dt$\n",
    "\n",
    "2. Ищем $F^{-1}$\n",
    "\n",
    "3. Генерируем $U_1, \\ldots, U_n$ из распределения $U[0, 1]$\n",
    "\n",
    "4. Пусть $X_k = F^{-1}(U_k)$\n",
    "\n",
    "5. Тогда $X_1, \\ldots, X_n$ — последовательность чисел из распределения $F$.\n",
    "\n",
    "Решение:\n",
    "\n",
    "1. Имея плотность $\\rho(t)$ получаем после несложных преобразований по линейности интеграла функцию распределения $F(x) = \\alpha \\cdot k^{\\alpha} \\cdot \\int_{-\\infty}^x t^{-1-\\alpha} \\cdot I_{t > \\alpha} dt = \\alpha \\cdot k^{\\alpha} \\cdot \\int_{\\alpha}^x t^{-1-\\alpha} dt = \\alpha k^{\\alpha} \\frac{t^{-\\alpha}}{-\\alpha}|_{t=k}^x = \\alpha k^{\\alpha} \\cdot \\frac{\\alpha}{k^{\\alpha}} - \\alpha k^{\\alpha} \\cdot (\\frac{1}{\\alpha x^{\\alpha}}) = 1 - (\\frac{k}{x})^{\\alpha}$. \n",
    "\n",
    "2. Найдем $F^{-1}$. Пусть $X_k = F^{-1}(U_k)$. Тогда $F(X_k) = F(F^{-1}(U_k))$. То есть, $x = F^{-1}(u) \\Leftrightarrow F(x) = u$. Нам известно $F$, так что найдем решение второго уравнения: $F(x) = u \\Leftrightarrow 1 - (\\frac{k}{x})^{\\alpha} = u \\Leftrightarrow  (\\frac{k}{x})^{\\alpha} = 1 - u \\Leftrightarrow  x^{\\alpha} = \\frac{k{^\\alpha}}{1-u} \\Leftrightarrow x = \\frac{k}{(1-u)^{\\alpha}} = F^{-1}(u)$. Реализуем ее в функции `inv_pareto_cdf(u)`\n",
    "\n",
    "3. Теперь генерируем $U_1, \\ldots, U_{1000}$. Для простоты воспользуемся не нашим примитивным и долго работающим генератором, а специальной функцией `np.random.uniform` из библиотеки `numpy`.\n",
    "\n",
    "4. Пусть `sample` — наша последовательность $U_1, \\ldots, 1000$, $\\alpha=2, k=1$. Тогда $X_k = F^{-1}(U_k)$, а все это мы уже умеем вычислять.\n",
    "\n",
    "5. Запустим код ниже и сгенерируем числа."
   ]
  },
  {
   "cell_type": "code",
   "execution_count": 5,
   "id": "d5267a37-5c87-4c73-80b9-f1e8ca9a264c",
   "metadata": {},
   "outputs": [],
   "source": [
    "def inv_pareto_cdf(u, k, a):\n",
    "    return k / ((1 - u)**a)"
   ]
  },
  {
   "cell_type": "code",
   "execution_count": 6,
   "id": "12d7d741-87b1-4d75-98e7-2cd1836bd817",
   "metadata": {},
   "outputs": [],
   "source": [
    "sample = np.random.uniform(0, 1, 1000)\n",
    "x_ks = []\n",
    "\n",
    "for u_k in sample:\n",
    "    x_k = inv_pareto_cdf(u_k, 1, 2)\n",
    "    x_ks.append(x_k)"
   ]
  },
  {
   "cell_type": "markdown",
   "id": "96b216e9-5242-4bb1-a05e-6ba9a0938e70",
   "metadata": {},
   "source": [
    "Вместо того, чтобы выводить все 1000 элементов, нарисуем график, используя логарифмическую шкалу (поскольку разброс чисел в `x_ks` большой, без этой шкалы график будет неинформативным):"
   ]
  },
  {
   "cell_type": "code",
   "execution_count": 7,
   "id": "2620ac19-bc35-4f87-a8b6-cc27794d5596",
   "metadata": {},
   "outputs": [],
   "source": [
    "import seaborn as sns"
   ]
  },
  {
   "cell_type": "code",
   "execution_count": 21,
   "id": "05cbeb99-9add-4004-a00b-6caf56cb05dc",
   "metadata": {},
   "outputs": [
    {
     "data": {
      "text/plain": [
       "<AxesSubplot:ylabel='Count'>"
      ]
     },
     "execution_count": 21,
     "metadata": {},
     "output_type": "execute_result"
    },
    {
     "data": {
      "image/png": "[encoded data removed]",
      "text/plain": [
       "<Figure size 432x288 with 1 Axes>"
      ]
     },
     "metadata": {
      "needs_background": "light"
     },
     "output_type": "display_data"
    }
   ],
   "source": [
    "sns.histplot(x_ks[:1000], kde=True, log_scale=True)"
   ]
  },
  {
   "cell_type": "markdown",
   "id": "b18af835-ae7c-47af-b8c6-027d2bcf3d18",
   "metadata": {},
   "source": [
    "Теперь массив `x_ks` содержит последовательность $X_k$, а по графику мы видим, что гистограмма нашей последовательности действительно похожа на гистограмму распределения Парето."
   ]
  },
  {
   "cell_type": "markdown",
   "id": "1a978bb3-c333-4994-a416-081409231f90",
   "metadata": {},
   "source": [
    "#### Задание 3."
   ]
  },
  {
   "cell_type": "markdown",
   "id": "c2b88772-d938-42e0-a1af-65ff3d698ef4",
   "metadata": {},
   "source": [
    "Известно, что случайная величина, выдающая 1, если осложнение есть, и 0 иначе, — это $X \\sim$ Bern$(p), p =0.1$. Известно, что $\\hat{p} = \\frac{9}{142}$ — вероятность осложнения на выборке с новой разработкой, $Y(q)$ — случайная величина для осложнения с новой разработкой (то есть, наша выборка — ее реализация). Необходимо определить, можно ли считать, что $q < p$ — статистически значимое различие?\n",
    "\n",
    "В задаче требуется предложить проверку гипотезы $q < p$.\n",
    "\n",
    "Для этого сгенерируем распределение Бернулли с помощью дискретного метода обратного преобразования как на лекции. Дальше используем непараметрический тест для определения стат. значимости различия среднего в выборках, ведь $\\mathbb{E}X = p$."
   ]
  },
  {
   "cell_type": "code",
   "execution_count": null,
   "id": "4042ab8a-21c7-4b26-a049-16243768e947",
   "metadata": {},
   "outputs": [],
   "source": []
  }
 ],
 "metadata": {
  "kernelspec": {
   "display_name": "Python 3",
   "language": "python",
   "name": "python3"
  },
  "language_info": {
   "codemirror_mode": {
    "name": "ipython",
    "version": 3
   },
   "file_extension": ".py",
   "mimetype": "text/x-python",
   "name": "python",
   "nbconvert_exporter": "python",
   "pygments_lexer": "ipython3",
   "version": "3.9.5"
  }
 },
 "nbformat": 4,
 "nbformat_minor": 5
}
