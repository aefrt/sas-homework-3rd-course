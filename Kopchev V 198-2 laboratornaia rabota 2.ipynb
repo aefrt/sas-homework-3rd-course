{
 "cells": [
  {
   "cell_type": "markdown",
   "metadata": {},
   "source": [
    "# Лабораторная работа 2\n",
    "\n",
    "## Линейная регрессия"
   ]
  },
  {
   "cell_type": "markdown",
   "metadata": {},
   "source": [
    "**Перед тем, как приступить к выполнению заданий, подключу необходимые библиотеки.**"
   ]
  },
  {
   "cell_type": "code",
   "execution_count": 792,
   "metadata": {},
   "outputs": [],
   "source": [
    "import numpy as np\n",
    "\n",
    "import scipy.linalg\n",
    "\n",
    "import math\n",
    "\n",
    "import matplotlib.pyplot as plt\n",
    "%matplotlib inline\n",
    "\n",
    "from sklearn.model_selection import train_test_split"
   ]
  },
  {
   "cell_type": "markdown",
   "metadata": {},
   "source": [
    "### Метод наименьших квадратов: постановка задачи\n",
    "\n",
    "Рассмотрим систему уравнений $Xa = y$, в которой $a$ &mdash; столбец неизвестных. Её можно переписать в векторном виде\n",
    "$$x_1 a_1 + x_2 a_2 + \\ldots + x_k a_k = y,$$\n",
    "где $x_1,\\ldots,x_n$ &mdash; столбцы матрицы $X$. Таким образом, решить исходную систему означает найти линейную комбинацию векторов $x_1,\\ldots,x_n$, равную правой части. Но что делать, если такой линейной комбинации не существует? Геометрически это означает, что вектор $y$ не лежит в подпространстве $U = \\langle x_1,\\ldots, x_k\\rangle$. В этом случае мы можем найти *псевдорешение*: вектор коэффициентов $\\hat{a}$, для которого линейная комбинация $x_1 \\hat{a}_1 + x_2 \\hat{a}_2 + \\ldots + x_k \\hat{a}_k$ хоть и не равна в точности $y$, но является наилучшим приближением &mdash; то есть ближайшей к $y$ точкой $\\hat{y}$ подпространства $U$ (иными словами, ортогональной проекцией $y$ на это подпростанство). Итак, цель наших исканий можно сформулировать двумя эквивалентными способами:\n",
    "\n",
    "1. Найти вектор $\\hat{a}$, для которого длина разности $|X\\hat{a} - y|$ минимальна (отсюда название \"метод наименьших квадратов\");\n",
    "2. Найти ортогональную проекцию $\\hat{y}$ вектора $y$ на подпространство $U$ и представить её в виде $X\\hat{a}$.\n",
    "\n",
    "Далее мы будем предполагать, что векторы $x_1,\\ldots,x_n$ линейно независимы (если нет, то сначала имеет смысл выделить максимальную линейно независимую подсистему).\n",
    "\n",
    "На лекциях было показано, что проекция вектора $y$ на подпространство $U = \\langle x_1,\\ldots, x_k\\rangle$ записывается в виде\n",
    "$$\\hat{y} = X\\left(X^TX\\right)^{-1}X^Ty,$$\n",
    "и, соответственно, искомый вектор $\\hat{a}$ равен\n",
    "$$\\hat{a} = \\left(X^TX\\right)^{-1}X^Ty.$$"
   ]
  },
  {
   "cell_type": "markdown",
   "metadata": {},
   "source": [
    "### Задача линейной регрессии\n",
    "\n",
    "Начнём с примера. Допустим, вы хотите найти зависимость среднего балла S студента ФКН от его роста H, веса W, длины волос L и N &mdash; количества часов, которые он ежедневно посвящает учёбе. Представьте, что мы измерили все эти параметры для $n$ студентов и получили наборы значений $S_1,\\ldots, S_n$, $H_1,\\ldots, H_n$ и так далее.\n",
    "\n",
    "Тут можно подбирать много разных умных моделей, но начать имеет смысл с самой простой, линейной:\n",
    "$$S = a_1H + a_2W + a_3L + a_4N + a_5.$$\n",
    "Конечно, строгой линейной зависимости нет (иначе можно было бы радостно упразднить экзамены), но мы можем попробовать подобрать коэффициенты $a_1, a_2, a_3, a_4, a_5$, для которых отклонение правой части от наблюдаемых было бы наименьшим:\n",
    "$$\\sum_{i=1}^n\\left(S_i - ( a_1H_i + a_2W_i + a_3L_i + a_4N_i + a_5)\\right)^2 \\longrightarrow \\min$$\n",
    "И сразу видно, что мы получили задачу на метод наименьших квадратов! А именно, у нас\n",
    "$$X =\n",
    "\\begin{pmatrix}\n",
    "H_1 & W_1 & L_1 & N_1 & 1\\\\\n",
    "H_2 & W_2 & L_2 & N_2 & 1\\\\\n",
    "\\dots & \\dots & \\dots & \\dots & \\dots \\\\\n",
    "H_n & W_n & L_n & N_n & 1\n",
    "\\end{pmatrix},\\qquad y=\n",
    "\\begin{pmatrix}\n",
    "S_1\\\\ S_2\\\\ \\vdots \\\\ S_n\n",
    "\\end{pmatrix}$$\n",
    "\n",
    "Решая эту задачу с помощью уже известных формул, получаем оценки коэффициентов $\\hat{a}_i$ ($i = 1\\ldots,5$)."
   ]
  },
  {
   "cell_type": "markdown",
   "metadata": {},
   "source": [
    "Теперь проговорим общую постановку задачи линейной регрессии. У нас есть $k$ переменных $x_1,\\ldots,x_k$ (\"регрессоров\"), через которые мы хотим выразить \"объясняемую переменную\" $y$:\n",
    "$$y = a_1x_1 + a_2x_2 + \\ldots + a_kx_k$$\n",
    "Значения всех переменных мы измерили $n$ раз (у $n$ различных объектов, в $n$ различных моментов времени &mdash; это зависит от задачи). Подставим эти данные в предыдущее равенство:\n",
    "$$\\begin{pmatrix}\n",
    "y_1\\\\ y_2 \\\\ \\vdots \\\\ y_n\n",
    "\\end{pmatrix} = \n",
    "a_1\\begin{pmatrix}\n",
    "x_{11} \\\\ x_{21} \\\\ \\vdots \\\\ x_{n1} \\end{pmatrix} + a_2\\begin{pmatrix}\n",
    "x_{12} \\\\ x_{22} \\\\ \\vdots \\\\ x_{n2} \\end{pmatrix} + \\ldots + a_k\\begin{pmatrix}\n",
    "x_{1k} \\\\ x_{2k} \\\\ \\vdots \\\\ x_{nk} \\end{pmatrix}$$\n",
    "(здесь $x_{ij}$ &mdash; это значение $j$-го признака на $i$-м измерении). Это удобно переписать в матричном виде:\n",
    "$$\\begin{pmatrix}\n",
    "x_{11} & x_{12} & \\ldots & x_{1k}\\\\\n",
    "x_{21} & x_{22} & \\ldots & x_{2k}\\\\\n",
    "\\dots & \\dots & \\dots & \\dots\\\\\n",
    "x_{n1} & x_{n2} & \\ldots & x_{nk}\n",
    "\\end{pmatrix} \\cdot\n",
    "\\begin{pmatrix}\n",
    "a_1 \\\\ a_2 \\\\ \\vdots \\\\ a_k\n",
    "\\end{pmatrix} = \n",
    "\\begin{pmatrix}\n",
    "y_1 \\\\ y_2 \\\\ \\vdots \\\\ y_n\n",
    "\\end{pmatrix}$$\n",
    "или коротко $Xa = y$. Поскольку на практике эта система уравнений зачастую не имеет решения (ибо зависимости в жизни редко бывают действительно линейными), методом наименьших квадратов ищется псевдорешение."
   ]
  },
  {
   "cell_type": "markdown",
   "metadata": {},
   "source": [
    "### Оценка качества. Обобщающая способность. Обучение и тест \n",
    "\n",
    "После того, как вы построили регрессию и получили какую-то зависимость объясняемой переменной от регрессоров, настаёт время оценить качество регрессии. Есть много разных функционалов качества; мы пока будем говорить только о самом простом и очевидном из них &mdash; о среднеквадратичной ошибке (mean square error). Она равна\n",
    "$$\\frac1{n}|X\\hat{a} - y|^2 = \\frac1{n}\\sum_{i=1}^n\\left(\\hat{a}_1x_{i1} + \\hat{a}_2x_{i2} + \\ldots + \\hat{a}_kx_{ik} - y_i\\right)^2$$\n",
    "\n",
    "В целом хочется искать модели с наименьшей mean square error на имеющихся данных. Однако слишком фанатичная гонка за минимизацией ошибки может привести к печальным последствиям. Например, если мы приближаем функцию одной переменной по значениям в $n$ точках, то наилучшей с точки зрения этой ошибки моделью будет многочлен $(n-1)$-й степени, для которого эта ошибка будет равна нулю.  Тем не менее, вряд ли истинная зависимость имеет вид многочлена большой степени. Более того, значения вам скорее всего даны с погрешностью, то есть вы подогнали вашу модель под свои зашумлённые данные, но на любых других данных (то есть в других точках) точность, скорее всего, окажется совсем не такой хорошей. Этот эффект называют **переобучением**; говорят также, что **обобщающая способность** модели оказалась скверной.\n",
    "\n",
    "Чтобы не попадать в эту ловушку, данные обычно делят на обучающие (по которым строят модель и оценивают коэффициенты) и тестовые. Лучшей стоит счесть ту модель, для которой значение функционала качества будет меньше."
   ]
  },
  {
   "cell_type": "markdown",
   "metadata": {},
   "source": [
    "### Задание 1. Метод наименьших квадратов (4 балла)"
   ]
  },
  {
   "cell_type": "markdown",
   "metadata": {},
   "source": [
    "Скачайте файлы ``train.txt`` и ``test.txt``. В первом из них находится обучающая выборка, а во втором &mdash; тестовая. Каждый из файлов содержит два столбца чисел, разделённых пробелами: в первом &mdash; $n$ точек (значения аргумента $x$), во втором &mdash; значения некоторой функции $y = f(x)$ в этих точках, искажённые случайным шумом. Ваша задача &mdash; по обучающей выборке подобрать функцию $y = g(x)$, пристойно приближающую неизвестную вам зависимость."
   ]
  },
  {
   "cell_type": "markdown",
   "metadata": {},
   "source": [
    "Загрузим обучающие и тестовые данные (не забудьте ввести правильный путь!)."
   ]
  },
  {
   "cell_type": "code",
   "execution_count": 491,
   "metadata": {},
   "outputs": [],
   "source": [
    "data_train = np.loadtxt('/Users/aefrt/Downloads/train.txt', delimiter=',')\n",
    "data_test = np.loadtxt('/Users/aefrt/Downloads/test.txt', delimiter=',')"
   ]
  },
  {
   "cell_type": "markdown",
   "metadata": {},
   "source": [
    "Разделим значения $x$ и $y$"
   ]
  },
  {
   "cell_type": "code",
   "execution_count": 492,
   "metadata": {},
   "outputs": [],
   "source": [
    "X_train = data_train[:,0]\n",
    "y_train = data_train[:,1]\n",
    "\n",
    "# Сделайте то же для тестовой выборки\n",
    "X_test = data_test[:,0]\n",
    "y_test = data_test[:,1]"
   ]
  },
  {
   "cell_type": "markdown",
   "metadata": {},
   "source": [
    "Найдите с помощью метода наименьших квадратов линейную функцию ($y = kx + b$), наилучшим образом приближающую неизвестную зависимость. Полезные функции: ``numpy.ones(n)`` для создания массива из единиц длины $n$ и ``numpy.concatenate((А, В), axis=1)`` для слияния двух матриц по столбцам (пара ``А`` и ``В`` превращается в матрицу ``[A B]``)."
   ]
  },
  {
   "cell_type": "markdown",
   "metadata": {},
   "source": [
    "**1. Для начала создам двумерную матрицу, состояющую из столбцов X_train и столбца, состоящего полностью из единиц. Эта матрица, умноженная на вектор столбец $x = (k, b)$, даст вектор-столбец $\\hat{y}$ —— псевдорешение $Ax = y$.**"
   ]
  },
  {
   "cell_type": "code",
   "execution_count": 493,
   "metadata": {},
   "outputs": [
    {
     "name": "stdout",
     "output_type": "stream",
     "text": [
      "[[-0.2   1.  ]\n",
      " [-0.14  1.  ]\n",
      " [-0.08  1.  ]\n",
      " [-0.02  1.  ]\n",
      " [ 0.04  1.  ]\n",
      " [ 0.1   1.  ]\n",
      " [ 0.16  1.  ]\n",
      " [ 0.22  1.  ]\n",
      " [ 0.28  1.  ]\n",
      " [ 0.34  1.  ]\n",
      " [ 0.4   1.  ]\n",
      " [ 0.46  1.  ]\n",
      " [ 0.52  1.  ]\n",
      " [ 0.58  1.  ]\n",
      " [ 0.64  1.  ]\n",
      " [ 0.7   1.  ]\n",
      " [ 0.76  1.  ]\n",
      " [ 0.82  1.  ]\n",
      " [ 0.88  1.  ]\n",
      " [ 0.94  1.  ]\n",
      " [ 1.    1.  ]]\n",
      "[[4.10083261]\n",
      " [4.75632474]\n",
      " [4.16278839]\n",
      " [4.94568077]\n",
      " [4.9964461 ]\n",
      " [3.67344585]\n",
      " [4.07405522]\n",
      " [4.12650853]\n",
      " [5.25101279]\n",
      " [5.69160283]\n",
      " [5.06788376]\n",
      " [6.07176274]\n",
      " [5.76661215]\n",
      " [5.76998646]\n",
      " [5.39647832]\n",
      " [5.46744837]\n",
      " [5.46450349]\n",
      " [7.23168494]\n",
      " [6.09781368]\n",
      " [7.0778812 ]\n",
      " [7.05182585]]\n",
      "[[-0.3   1.  ]\n",
      " [-0.23  1.  ]\n",
      " [-0.16  1.  ]\n",
      " [-0.09  1.  ]\n",
      " [-0.02  1.  ]\n",
      " [ 0.05  1.  ]\n",
      " [ 0.12  1.  ]\n",
      " [ 0.19  1.  ]\n",
      " [ 0.26  1.  ]\n",
      " [ 0.33  1.  ]\n",
      " [ 0.4   1.  ]\n",
      " [ 0.47  1.  ]\n",
      " [ 0.54  1.  ]\n",
      " [ 0.61  1.  ]\n",
      " [ 0.68  1.  ]\n",
      " [ 0.75  1.  ]\n",
      " [ 0.82  1.  ]\n",
      " [ 0.89  1.  ]\n",
      " [ 0.96  1.  ]\n",
      " [ 1.03  1.  ]\n",
      " [ 1.1   1.  ]]\n",
      "[[4.22468198]\n",
      " [3.6806801 ]\n",
      " [4.86193723]\n",
      " [4.12182311]\n",
      " [3.89129282]\n",
      " [4.77528678]\n",
      " [4.84650657]\n",
      " [3.29232057]\n",
      " [3.77839618]\n",
      " [4.16851703]\n",
      " [5.43651587]\n",
      " [4.74066998]\n",
      " [5.45091177]\n",
      " [5.23766541]\n",
      " [5.84027585]\n",
      " [5.79299791]\n",
      " [7.12448917]\n",
      " [6.11752856]\n",
      " [6.00190132]\n",
      " [7.26882794]\n",
      " [7.48272721]]\n"
     ]
    }
   ],
   "source": [
    "X_train.shape = (len(X_train), 1)\n",
    "ones_for_X_train = np.ones(len(X_train))\n",
    "ones_for_X_train.shape = (len(ones_for_X_train), 1)\n",
    "X_train = (np.concatenate((X_train, ones_for_X_train), axis=1))\n",
    "y_train.shape = (len(y_train), 1)\n",
    "print(X_train)\n",
    "print(y_train)\n",
    "\n",
    "X_test.shape = (len(X_test), 1)\n",
    "ones_for_X_test = np.ones(len(X_test))\n",
    "ones_for_X_test.shape = (len(ones_for_X_test), 1)\n",
    "X_test = (np.concatenate((X_test, ones_for_X_test), axis=1))\n",
    "y_test.shape = (len(y_test), 1)\n",
    "print(X_test)\n",
    "print(y_test)"
   ]
  },
  {
   "cell_type": "markdown",
   "metadata": {},
   "source": [
    "**2. Напишу функции MNK(X, y), вычисляющую псевдорешение системы $Xa = y$ с помощью МНК по формуле, указанной выше, и find_a_hat(X, y), которая находит вектор $\\hat{a}$.**"
   ]
  },
  {
   "cell_type": "code",
   "execution_count": 494,
   "metadata": {},
   "outputs": [],
   "source": [
    "def MNK(X, y):\n",
    "    return ((X.dot(scipy.linalg.inv(X.T.dot(X)))).dot(X.T)).dot(y)\n",
    "\n",
    "def find_a_hat(X, y):\n",
    "    return ((scipy.linalg.inv(X.T.dot(X))).dot(X.T)).dot(y)"
   ]
  },
  {
   "cell_type": "markdown",
   "metadata": {},
   "source": [
    "**3. Найду псевдорешение и вектор $\\hat{a}$.**"
   ]
  },
  {
   "cell_type": "code",
   "execution_count": 495,
   "metadata": {},
   "outputs": [
    {
     "name": "stdout",
     "output_type": "stream",
     "text": [
      "[[3.97740401]\n",
      " [4.11415208]\n",
      " [4.25090015]\n",
      " [4.38764822]\n",
      " [4.52439628]\n",
      " [4.66114435]\n",
      " [4.79789242]\n",
      " [4.93464049]\n",
      " [5.07138856]\n",
      " [5.20813663]\n",
      " [5.3448847 ]\n",
      " [5.48163277]\n",
      " [5.61838084]\n",
      " [5.75512891]\n",
      " [5.89187698]\n",
      " [6.02862505]\n",
      " [6.16537312]\n",
      " [6.30212119]\n",
      " [6.43886926]\n",
      " [6.57561733]\n",
      " [6.7123654 ]]\n",
      "[[2.2791345 ]\n",
      " [4.43323091]]\n"
     ]
    }
   ],
   "source": [
    "y_hat = MNK(X_train, y_train)\n",
    "print(y_hat)\n",
    "a_hat = find_a_hat(X_train, y_train)\n",
    "print(a_hat)"
   ]
  },
  {
   "cell_type": "markdown",
   "metadata": {},
   "source": [
    "Нарисуйте на плоскости точки $(x_i, y_i)$ и полученную линейную функцию. Глядя на данные, подумайте, многочленом какой степени можно было бы лучше всего приблизить эту функцию. Найдите этот многочлен и нарисуйте его график."
   ]
  },
  {
   "cell_type": "markdown",
   "metadata": {},
   "source": [
    "**1. Создам массив из двух точек g_x и соответствующих им g_y (они будут подмножествами области определения и области значений $g(x)$ соответственно), чтобы построить по ним примую.**"
   ]
  },
  {
   "cell_type": "code",
   "execution_count": 496,
   "metadata": {},
   "outputs": [],
   "source": [
    "g_x = []\n",
    "g_y = []\n",
    "g_x.append(-0.3)\n",
    "g_y.append(a_hat[0] * (-0.3) + a_hat[1])\n",
    "g_x.append(1.4)\n",
    "g_y.append(a_hat[0] * 1.4 + a_hat[1])"
   ]
  },
  {
   "cell_type": "markdown",
   "metadata": {},
   "source": [
    "**2. Построю график $y = g(x)$ и изображу на нём точки из $(x_i, y_i)$ из тренировочной выборки**"
   ]
  },
  {
   "cell_type": "code",
   "execution_count": 497,
   "metadata": {},
   "outputs": [
    {
     "data": {
      "image/png": "[encoded data removed]",
      "text/plain": [
       "<Figure size 432x288 with 1 Axes>"
      ]
     },
     "metadata": {
      "needs_background": "light"
     },
     "output_type": "display_data"
    }
   ],
   "source": [
    "plt.scatter(X_train[:,0], y_train)\n",
    "plt.plot(g_x, g_y)\n",
    "plt.show()"
   ]
  },
  {
   "cell_type": "markdown",
   "metadata": {},
   "source": [
    "**3. Глядя на данные, подумайте, многочленом какой степени можно было бы лучше всего приблизить эту функцию. Найдите этот многочлен и нарисуйте его график.**"
   ]
  },
  {
   "cell_type": "markdown",
   "metadata": {},
   "source": [
    "**Решение:**"
   ]
  },
  {
   "cell_type": "markdown",
   "metadata": {},
   "source": [
    "Глядя на данные, можно заметить, что X_train состоит из 21 элемента. Многочлен степени 20 при подстановке вместо x какого-либо элемента из X_train становится линейной комбинацией из 21 элемента. Через 21 точку можно провести многочлен, который проходит через все эти точки, поэтому можно предположить, что лучше всего функцию $g(x)$ можно приблизить многочленом 21 степени. Перейду к нахождению этого многочлена.\n",
    "\n",
    "Пусть $P(x) = a_k * x^k + ... + a_1 * x + a_0$. Найду такой вектор-столбец $a = (a_0, \\ldots, a_k)$, что для любого $i$ от 1 до 21 $P(x_i) \\approx y_i$, с помощью линейной регрессии. Для $x_i$ из X_train $P(x_i)$ можно считать функцией от $k + 1$-й переменной из вектор-столбца $a = (a_k, ..., a_0)$. Найду такое $a$, что, считая, что $X := ((x_i)^j)$ при $j$ от 0 до $k$, $i$ от 1 до 21, $|Xa - y|$ минимальна с помощью МНК."
   ]
  },
  {
   "cell_type": "markdown",
   "metadata": {},
   "source": [
    "**3.1. Напишу функции polynomial_equals, с помощью которой можно вычислить значение многочлена, заданного коэффициентами $(a_0, ..., a_k)$ в базисе $(x^0, \\ldots, x^k)$ в точке $x$, и mean_square_error для вычисления среднеквадратической ошибки.**\n",
    "\n",
    "polynomial —— это массив (pylist), который хранит вектор-столбец вида $(a_0, ..., a_k)$."
   ]
  },
  {
   "cell_type": "code",
   "execution_count": 534,
   "metadata": {},
   "outputs": [],
   "source": [
    "def polynomial_equals(polynomial, point):\n",
    "    res = 0.\n",
    "    for i in range(len(polynomial)):\n",
    "        res += pow(point, i) * polynomial[i]\n",
    "    return res\n",
    "\n",
    "def mean_square_error(X, a, y):\n",
    "    res = 0.\n",
    "    i = 0\n",
    "    for x in X:\n",
    "        tmp = 0\n",
    "        res += pow(np.array(x).dot(np.array(a))[0] - y[0][i], 2)\n",
    "        i += 1\n",
    "    return (1 / len(X)) * res"
   ]
  },
  {
   "cell_type": "markdown",
   "metadata": {},
   "source": [
    "**3.2. Напишу функцию polynomial_coefficients для поиска матрицы $X = ((x_i)^j)$, polynomial для поиска вектор-столбца $(a_0, \\ldots, a_k)$, и print_polynomial для вывода найденного полинома на экран.**"
   ]
  },
  {
   "cell_type": "code",
   "execution_count": 448,
   "metadata": {},
   "outputs": [],
   "source": [
    "def polynomial_coefficients(X, k):\n",
    "    res = np.ones((len(X), k + 1))\n",
    "    for i in range(0, len(X)):\n",
    "        for j in range(0, k + 1):\n",
    "            res[i,j] = pow(X[i][0], j)\n",
    "    return res\n",
    "\n",
    "def polynomial(X, k, y):\n",
    "    return find_a_hat(polynomial_coefficients(X, k), y)\n",
    "\n",
    "def print_polynomial(polynomial):\n",
    "    res = \"\"\n",
    "    for i in range(len(polynomial)):\n",
    "        if i == 0:\n",
    "            res += str(polynomial[i][0])\n",
    "        elif i < len(polynomial) - 1:\n",
    "            if polynomial[i] > 0:\n",
    "                res += \" + \"\n",
    "                res += str(+polynomial[i][0])\n",
    "            else:\n",
    "                res += \" - \"\n",
    "                res += str(-polynomial[i][0])\n",
    "            if i != 1:\n",
    "                res += \"x^\" + str(i)\n",
    "            else:\n",
    "                res += \"x\"\n",
    "        else:\n",
    "            if polynomial[i] > 0:\n",
    "                res += \" + \"\n",
    "                res += str(+polynomial[i][0])\n",
    "            else:\n",
    "                res += \" - \"\n",
    "                res += str(-polynomial[i][0])\n",
    "            if i != 1:\n",
    "                res += \"x^\" + str(i)\n",
    "            else:\n",
    "                res += \"x\"\n",
    "    return res"
   ]
  },
  {
   "cell_type": "markdown",
   "metadata": {},
   "source": [
    "**3.3.Найду многочлен 20 степени и построю его график, а также найду среднеквадратическую ошибку с помощью написанных выше функций.**"
   ]
  },
  {
   "cell_type": "code",
   "execution_count": 465,
   "metadata": {},
   "outputs": [
    {
     "data": {
      "image/png": "[encoded data removed]",
      "text/plain": [
       "<Figure size 720x720 with 1 Axes>"
      ]
     },
     "metadata": {
      "needs_background": "light"
     },
     "output_type": "display_data"
    },
    {
     "name": "stdout",
     "output_type": "stream",
     "text": [
      "Среднеквадратическая ошибка равна 20.992144852131393\n"
     ]
    }
   ],
   "source": [
    "plt.figure(figsize=(10, 10))\n",
    "plt.scatter(X_train[:,0], y_train)\n",
    "\n",
    "x_20 = []\n",
    "y_20 = []\n",
    "for x in X_train[:,0]:\n",
    "    x_20.append(x)\n",
    "    y_20.append(polynomial_equals(polynomial(X_train, 20, y_train), x))\n",
    "        \n",
    "plt.plot(x_20, y_20)\n",
    "plt.show()\n",
    "print(\"Среднеквадратическая ошибка равна\", mean_square_error(polynomial_coefficients(X_train, 20), polynomial(X_train, 20, y_train), y_train.T))"
   ]
  },
  {
   "cell_type": "markdown",
   "metadata": {},
   "source": [
    "Многочлен неидеально приблизил функцию $g(x)$, так как не все столбцы из X_train линейно независимы. Действительно, ранг матрицы равен 20, а не 21, как видно из вычисленной ниже разности:"
   ]
  },
  {
   "cell_type": "code",
   "execution_count": 466,
   "metadata": {},
   "outputs": [
    {
     "name": "stdout",
     "output_type": "stream",
     "text": [
      "-1\n"
     ]
    }
   ],
   "source": [
    "print(np.linalg.matrix_rank(polynomial_coefficients(X_train, 20)) - len(polynomial_coefficients(X_train, 20)))"
   ]
  },
  {
   "cell_type": "markdown",
   "metadata": {},
   "source": [
    "Для $k = 1,2,3,\\ldots,10$ найдите многочлен $\\hat{f}_k$ степени $k$, наилучшим образом приближающий неизвестную зависимость. Для каждого из них найдите среднеквадратическую ошибку на обучающих данных и на тестовых данных: $\\frac1{n}\\sum_{i=1}^n\\left( \\hat{f}_k(x_i) - y_i \\right)^2$ (в первом случае сумма ведётся по парам $(x_i, y_i)$ из обучающих данных, а во втором - по парам из тестовых данных).\n",
    "\n",
    "Для $k = 1,2,3,4,6$ напечатайте коэффициенты полученных многочленов и нарисуйте их графики на одном чертеже вместе с точками $(x_i, y_i)$ (возможно, график стоит сделать побольше; это делается командой `plt.figure(figsize=(width, height))`)."
   ]
  },
  {
   "cell_type": "markdown",
   "metadata": {},
   "source": [
    "**Решение:**\n",
    "Напишу программу, которая сделает всё необходимое. Значения ошибок, оформленные в виде таблицы, многочлены и их степени выведу после графика с помощью функций, написанных выше."
   ]
  },
  {
   "cell_type": "code",
   "execution_count": 484,
   "metadata": {},
   "outputs": [
    {
     "data": {
      "image/png": "[encoded data removed]",
      "text/plain": [
       "<Figure size 864x864 with 1 Axes>"
      ]
     },
     "metadata": {
      "needs_background": "light"
     },
     "output_type": "display_data"
    },
    {
     "name": "stdout",
     "output_type": "stream",
     "text": [
      "deg P\ttrain error\t\ttest error\n",
      "1\t0.29689663326251964\t0.43512020040488775\n",
      "2\t0.2696989158766913\t0.3564762887831241\n",
      "3\t0.26949718714796095\t0.3553464571518524\n",
      "4\t0.2610665330579273\t0.441727018928971\n",
      "5\t0.24998504648317565\t0.5579732021632928\n",
      "6\t0.1882934898837019\t2.5816929327779343\n",
      "7\t0.1853962115329447\t2.5157828948809624\n",
      "8\t0.15905556579089294\t4.357288614352405\n",
      "9\t0.1584718427471699\t4.776339483986325\n",
      "10\t0.1531661100030784\t14.632478586777967\n",
      "\t\n",
      "deg P = 1 \n",
      "P(x) = 4.433230905064935 + 2.2791344980519463x\n",
      "\n",
      "deg P = 2 \n",
      "P(x) = 4.472476503404164 + 1.1578316883597337x + 1.4016285121152756x^2\n",
      "\n",
      "deg P = 3 \n",
      "P(x) = 4.460736355285098 + 1.065016105285233x + 1.8597508372608589x^2 - 0.3817686042878532x^3\n",
      "\n",
      "deg P = 4 \n",
      "P(x) = 4.341166120399745 + 1.1718023926318009x + 6.794091784358358x^2 - 13.051328119985527x^3 + 7.9184746973127105x^4\n",
      "\n",
      "deg P = 5 \n",
      "P(x) = 4.4312978138234325 - 0.1305980398779396x + 3.274714401814858x^2 + 21.374796276320048x^3 - 51.131481385549066x^4 + 29.5249780414227x^5\n",
      "\n",
      "deg P = 6 \n",
      "P(x) = 4.383795011027765 - 4.597179325160414x + 16.002903990354294x^2 + 121.25709713033427x^3 - 481.5101328868179x^4 + 581.4532982445619x^5 - 229.97013341835543x^6\n",
      "\n",
      "deg P = 7 \n",
      "P(x) = 4.444512709476475 - 4.008895911600961x + 7.215458595737616x^2 + 119.35078426871624x^3 - 314.23117231768515x^4 + 122.8782166447927x^5 + 238.69936824480374x^6 - 167.381964882082x^7\n",
      "\n",
      "deg P = 8 \n",
      "P(x) = 4.663789114760556 - 5.1827735493704115x - 26.695631889338593x^2 + 268.86044329061934x^3 + 109.89567885011684x^4 - 3132.8564670609503x^5 + 6760.628613674755x^6 - 5701.710314918684x^7 + 1729.477609040856x^8\n",
      "\n",
      "deg P = 9 \n",
      "P(x) = 4.645883608375046 - 4.552706023796951x - 24.26271767440636x^2 + 219.04205359273328x^3 + 176.2453927793008x^4 - 2441.962917772569x^5 + 3913.268996812534x^6 - 1216.4495801074663x^7 - 1522.097288194942x^8 + 903.2152387846363x^9\n",
      "\n",
      "deg P = 10 \n",
      "P(x) = 4.669172383874619 - 2.159831536100537x - 36.17536708872211x^2 + 44.935443711830885x^3 + 1201.9526070912252x^4 - 1660.8233006030896x^5 - 12969.933523788437x^6 + 46686.645727207826x^7 - 63620.98724076117x^8 + 40177.52313918143x^9 - 9818.576040734377x^10\n",
      "\n"
     ]
    }
   ],
   "source": [
    "for_errors_P = []\n",
    "for_errors_train = []\n",
    "for_errors_test = []\n",
    "polynomials = []\n",
    "\n",
    "fig, ax = plt.subplots()\n",
    "plt.scatter(X_train[:,0], y_train)\n",
    "\n",
    "for i in range(1, 11):\n",
    "    tmp = polynomial(X_train, i, y_train)\n",
    "    g_i_x = []\n",
    "    g_i_y = []\n",
    "    for x in X_train[:,0]:\n",
    "        g_i_x.append(x)\n",
    "        g_i_y.append(polynomial_equals(tmp, x))\n",
    "    if i <= 6:\n",
    "        ax.plot(g_i_x, g_i_y, label = 'deg P' + str(i))\n",
    "    for_errors_P.append(i)\n",
    "    polynomials.append(print_polynomial(tmp))\n",
    "    for_errors_train.append(mean_square_error(polynomial_coefficients(X_train, i), tmp, y_train.T))\n",
    "    for_errors_test.append(mean_square_error(polynomial_coefficients(X_test, i), tmp, y_test.T))\n",
    "ax.legend()\n",
    "fig.set_figheight(12)\n",
    "fig.set_figwidth(12)\n",
    "plt.show()\n",
    "\n",
    "print(\"deg P\\t\", \"train error\", \"\\t\\ttest error\", sep='')\n",
    "for i in range(len(for_errors_P)):\n",
    "    print(for_errors_P[i], for_errors_train[i], for_errors_test[i], sep='\\t')\n",
    "print('\\t')\n",
    "\n",
    "for i in range(len(for_errors_P)):\n",
    "    print(\"deg P =\", for_errors_P[i], \"\\nP(x) =\", polynomials[i], end='\\n\\n')"
   ]
  },
  {
   "cell_type": "markdown",
   "metadata": {},
   "source": [
    "Что происходит с ошибкой при росте степени многочлена? Казалось бы, чем больше степень, тем более сложным будет многочлен и тем лучше он будет приближать нашу функцию. Подтверждают ли это ваши наблюдения? Как вам кажется, чем объясняется поведение ошибки на тестовых данных при $k = 10$?"
   ]
  },
  {
   "cell_type": "markdown",
   "metadata": {},
   "source": [
    "**Решение:**\n",
    "Нет, мои наблюдения не подтверждают того, что чем лучше многочлен, тем лучше он приближает функцию. На мой взгляд, это объясняется переобучением — при росте степени многочлена коэффициенты многочлена сильнее \"подстраиваются\" под тренировочную выборку, что и вызывает переобучение."
   ]
  },
  {
   "cell_type": "markdown",
   "metadata": {},
   "source": [
    "### Задание 2. Линейная регрессия (4 балла)"
   ]
  },
  {
   "cell_type": "markdown",
   "metadata": {},
   "source": [
    "Скачайте файлы ``flats_moscow_mod.txt`` и ``flats_moscow_description.txt``. В первом из них содержатся данные о квартирах в Москве. Каждая строка содержит шесть характеристик некоторой квартиры, разделённые знаками табуляции; в первой строке записаны кодовые названия характеристик. Во втором файле приведены краткие описания признаков. Вашей задачей будет построить с помощью метода наименьших квадратов (линейную) зависимость между ценой квартиры и остальными доступными параметрами.\n",
    "\n",
    "С помощью известных вам формул найдите регрессионные коэффициенты. Какой смысл имеют их знаки? Согласуются ли они с вашими представлениями о жизни?\n",
    "\n",
    "Оцените качество приближения, вычислив среднеквадратическую ошибку."
   ]
  },
  {
   "cell_type": "markdown",
   "metadata": {},
   "source": [
    "**1. Передам данные из файлов в массивы (pylist) и выведу получившиеся массивы.**\n",
    "В y_data_2 будут содержаться значения цены, в X_data_2 —— столбцы totsp, livesp, kitsp, dist, metrdist и столбец единиц."
   ]
  },
  {
   "cell_type": "code",
   "execution_count": 549,
   "metadata": {},
   "outputs": [
    {
     "name": "stdout",
     "output_type": "stream",
     "text": [
      "[[ 75. 128.  95. ...  95. 129. 103.]]\n",
      "[[44.  28.   6.  13.5  7.   1. ]\n",
      " [70.  42.   6.  14.5  3.   1. ]\n",
      " [61.  37.   6.  13.5  7.   1. ]\n",
      " ...\n",
      " [60.  46.   5.  10.5  5.   1. ]\n",
      " [76.  48.  10.  12.5  5.   1. ]\n",
      " [64.  45.   7.  15.5  5.   1. ]]\n"
     ]
    }
   ],
   "source": [
    "data_2 = []\n",
    "with open('/Users/aefrt/Downloads/flats_moscow_mod.txt', encoding='ascii') as fin:\n",
    "    line1 = fin.readline().rstrip('\\n')\n",
    "    data_train_2.append(line1.split('\\t'))\n",
    "    for line in fin:\n",
    "        data_2.append(line.split('\\t'))\n",
    "\n",
    "X_data_2 = []\n",
    "y_data_2 = []\n",
    "\n",
    "for sub_array in data_2:\n",
    "    y_data_2.append(float(sub_array[0]))\n",
    "    tmp = []\n",
    "    for elem in sub_array[1:]:\n",
    "        tmp.append(float(elem))\n",
    "    X_data_2.append(tmp)\n",
    "\n",
    "X_data_2 = np.array(X_data_2)\n",
    "y_data_2 = np.array(y_data_2)\n",
    "\n",
    "ones_list = np.ones(len(X_data_2))\n",
    "ones_list.shape = (len(ones_list), 1)\n",
    "X_data_2 = (np.concatenate((X_data_2, ones_list), axis=1))\n",
    "y_data_2.shape = (1, len(y_data_2))\n",
    "\n",
    "print(y_data_2)\n",
    "print(X_data_2)"
   ]
  },
  {
   "cell_type": "markdown",
   "metadata": {},
   "source": [
    "**2. Пусть $g(x) = a_1x_1 + \\ldots + a_5x_5 + a_6$.** \n",
    "\n",
    "$g(x)$ — это линейная функция от 5 переменных, выражающая зависимость цены квартиры от площади кухни, жилой площади, общей площади и расстояний от метро и от центра до квартиры. Найду регрессионные коэффициенты $g(x)$ с помощью МНК и вычислю среднеквадратическую ошибку.\n",
    "Последний элемент в массиве regression_coefficients —— свободный член."
   ]
  },
  {
   "cell_type": "code",
   "execution_count": 550,
   "metadata": {},
   "outputs": [
    {
     "name": "stdout",
     "output_type": "stream",
     "text": [
      "Регрессионные коэффициенты: [[  1.48697158   1.65631531   1.81863432  -3.32687847  -1.31591706\n",
      "  -26.77828054]]\n",
      "Среднеквадратическая ошибка равна 924.450728578998\n"
     ]
    }
   ],
   "source": [
    "regression_coefficients = find_a_hat(X_data_2, y_data_2[0])\n",
    "regression_coefficients.shape = ((1, len(regression_coefficients)))\n",
    "print(\"Регрессионные коэффициенты:\", regression_coefficients)\n",
    "print(\"Среднеквадратическая ошибка равна\", mean_square_error(X_data_2, regression_coefficients.T, y_data_2))"
   ]
  },
  {
   "cell_type": "markdown",
   "metadata": {},
   "source": [
    "Смысл знаков коэффициентов состоит в том, что цена квартиры зависит прямо пропорционально от своей общей площади, жилой площади и площади кухни, но обратно пропорционально от расстояния от центра и до метро. Действительно, они согласуются с моими представлениями о жизни — я считаю, что чем больше площадь, тем цена выше, чем дальше квартира от центра и метро, тем цена ниже."
   ]
  },
  {
   "cell_type": "markdown",
   "metadata": {},
   "source": [
    "### Усложнение модели"
   ]
  },
  {
   "cell_type": "markdown",
   "metadata": {},
   "source": [
    "Конечно, никто не гарантирует, что объясняемая переменная (цена квартиры) зависит от остальных характеристик именно линейно. Зависимость может быть, например, квадратичной или логарифмической; больше того, могут быть важны не только отдельные признаки, но и их комбинации. Это можно учитывать, добавляя в качестве дополнительных признаков разные функции от уже имеющихся характеристик: их квадраты, логарифмы, попарные произведения.\n",
    "\n",
    "В этом задании вам нужно постараться улучшить качество модели, добавляя дополнительные признаки, являющиеся функциями от уже имеющихся. Но будьте осторожны: чрезмерное усложнение модели будет приводить к переобучению. \n",
    "\n",
    "**Сравнение моделей**\n",
    "\n",
    "Когда вы построите новую модель, вам захочется понять, лучше она или хуже, чем изначальная. Проверять это на той же выборке, на которой вы обучались, бессмысленно и даже вредно (вспомните пример с многочленами: как прекрасно падала ошибка на обучающей выборке с ростом степени!). Поэтому вам нужно будет разделить выборку на обучающую и тестовую. Делать это лучше случайным образом (ведь вы не знаете, как создатели датасета упорядочили объекты); рекомендуем вам для этого функцию `sklearn.model_selection.train_test_split`."
   ]
  },
  {
   "cell_type": "markdown",
   "metadata": {
    "jupyter": {
     "outputs_hidden": true
    }
   },
   "source": [
    "**Решение:**\n",
    "Предположу, что общая и жилая площадь квартиры, расстояние от квартиры до метро и центра влияют на цену сильнее площади кухни. Основываясь на этом предположении, построю функцию $l(x_1, x_2, x_3, x_4, x_5) = a_1x_1^2 + a_2x_2^2 + a_3\\sqrt[5]{x_3} + a_4x_4^2 + a_5x_5^2$. "
   ]
  },
  {
   "cell_type": "markdown",
   "metadata": {},
   "source": [
    "**1. Разделю X_data_2, y_data_2 на обучающую и тестовую выборки X_train_2, y_train_2, X_test_2, y_test_2**."
   ]
  },
  {
   "cell_type": "code",
   "execution_count": 931,
   "metadata": {},
   "outputs": [],
   "source": [
    "X_train_2, X_test_2, y_train_2, y_test_2 = train_test_split(X_data_2, y_data_2[0])"
   ]
  },
  {
   "cell_type": "markdown",
   "metadata": {},
   "source": [
    "**2. Приступлю к обучению модели.**\n",
    "Для этого напишу функцию, которая будет, по аналогии с polynomial_coefficients, искать по данной выборке матрицу $(a_{ij})$. $a_{ij} = x_{ij}^2$ при $j \\ne 3$, $a_{ij}$ $=$ $\\sqrt[5]{x_{ij}}$ при $j = 3$ ($j$ от 1 до 5). По этой матрице с помощью МНК будут находиться регрессионные коэффициенты."
   ]
  },
  {
   "cell_type": "code",
   "execution_count": 932,
   "metadata": {},
   "outputs": [],
   "source": [
    "def make_matrix(X, y):\n",
    "    res = np.ones((len(X), 5))\n",
    "    for i in range(len(X)):\n",
    "        for j in range(len(X[i]) - 1):\n",
    "            if j == 0:\n",
    "                res[i, j] = pow(X[i, j], 2)\n",
    "            elif 3 <= j <= 4:\n",
    "                  res[i, j - 1] = pow(X[i, j], 2)\n",
    "            elif j == 1:\n",
    "                res[i, j] = pow(X[i, j], 2)\n",
    "            elif j == 2:\n",
    "                res[i, j - 1] = pow(X[i, j], 1./5)\n",
    "    return res\n",
    "\n",
    "def mean_square_error_2(X, a, y):\n",
    "    res = 0.\n",
    "    i = 0\n",
    "    for x in X:\n",
    "        tmp = 0\n",
    "        res += pow(np.array(x).dot(np.array(a))[0] - y[i], 2)\n",
    "        i += 1\n",
    "    return (1 / len(X)) * res\n",
    "\n",
    "complex_model_coefficients = find_a_hat(make_matrix(X_train_2, y_train_2), y_train_2)\n",
    "\n",
    "complex_model_coefficients.shape = (1, len(complex_model_coefficients))\n",
    "y_test_2.shape = (len(y_test_2), 1)"
   ]
  },
  {
   "cell_type": "markdown",
   "metadata": {},
   "source": [
    "Обучив модель, найду и выведу на экран её среднеквадратическую ошибку на тестовой выборке:"
   ]
  },
  {
   "cell_type": "code",
   "execution_count": 933,
   "metadata": {},
   "outputs": [
    {
     "name": "stdout",
     "output_type": "stream",
     "text": [
      "linear model: 924.450728578998\n",
      "complex model:  873.2693808656642\n"
     ]
    }
   ],
   "source": [
    "print(\"linear model:\", mean_square_error(X_data_2, regression_coefficients.T, y_data_2))\n",
    "print(\"complex model: \", mean_square_error_2(make_matrix(X_test_2, y_test_2), complex_model_coefficients.T, y_test_2)[0])"
   ]
  },
  {
   "cell_type": "markdown",
   "metadata": {},
   "source": [
    "Ошибка на новой модели оказалась меньше, чем у линейной, поэтому можно предположить, что она отражает зависимость ближе к реальности. Однако более низкая ошибка была зафиксирована на всего лишь одной случайно построенной выборке. Теперь необходимо доказать, что новая модель лучше старой на любой выборке. Для этого проведу 1000 тестов и вычислю среднюю ошибку. Ожидания не подтвердились — средняя ошибка на новой модели получилась немного выше, чем ошибка на старой. Модель оказалась хуже старой."
   ]
  },
  {
   "cell_type": "code",
   "execution_count": 934,
   "metadata": {},
   "outputs": [
    {
     "name": "stdout",
     "output_type": "stream",
     "text": [
      "average error: 957.8559511187403\n"
     ]
    }
   ],
   "source": [
    "sum = 0.\n",
    "for i in range(0, 1000):\n",
    "    X_train_2, X_test_2, y_train_2, y_test_2 = train_test_split(X_data_2, y_data_2[0])\n",
    "    complex_model_coefficients = find_a_hat(make_matrix(X_train_2, y_train_2), y_train_2)\n",
    "    complex_model_coefficients.shape = (1, len(complex_model_coefficients))\n",
    "    y_test_2.shape = (len(y_test_2), 1)\n",
    "    msq_new = mean_square_error_2(make_matrix(X_test_2, y_test_2), complex_model_coefficients.T, y_test_2)[0]\n",
    "    sum += msq_new\n",
    "print(\"average error:\", sum / 1000)"
   ]
  },
  {
   "cell_type": "markdown",
   "metadata": {},
   "source": [
    "### Задание 3. Регуляризация (2 балла)"
   ]
  },
  {
   "cell_type": "markdown",
   "metadata": {},
   "source": [
    "Вспомним, что задача линейной регрессии формулируется как задача нахождения проекции вектора значений объясняемой переменной $y$ на линейную оболочку $\\langle x_1,\\ldots,x_k\\rangle$ векторов значений регрессоров. Если векторы $x_1,\\ldots,x_k$ линейно зависимы, то матрица $X^TX$ вырожденна и задача не будет решаться (то есть будет, но не с помощью приведённой выше формулы). В жизни, по счастью, различные признаки редко бывают *в точности* линейно зависимы, однако во многих ситуациях они скоррелированы и становятся \"почти\" линейно зависимыми. Таковы, к примеру, зарплата человека, его уровень образования, цена машины и суммарная площадь недвижимости, которой он владеет. В этом случае матрица $X^TX$ будет близка к вырожденной, и это приводит к численной неустойчивости и плохому качеству решений; как следствие, будет иметь место переобучение. Один из симптомов этой проблемы &mdash; необычно большие по модулю компоненты вектора $a$.\n",
    "\n",
    "Есть много способов борьбы с этим злом. Один из них &mdash; регуляризация. Сейчас мы рассмотрим одну из её разновидностей &mdash; **L2-регуляризацию**. Идея в том, чтобы подправить матрицу $X^TX$, сделав её \"получше\". Например, это можно сделать, заменив её на $(X^TX + \\lambda E)$, где $\\lambda$ &mdash; некоторый скаляр. Пожертвовав точностью на обучающей выборке, мы тем не менее получаем численно более стабильное псевдорешение $a = (X^TX + \\lambda E)^{-1}X^Ty$ и снижаем эффект переобучения. Параметр $\\lambda$ нужно подбирать, и каких-то универсальных способов это делать нет, но зачастую можно его подобрать таким, чтобы ошибка на тестовой выборке падала. "
   ]
  },
  {
   "cell_type": "markdown",
   "metadata": {},
   "source": [
    "Теперь давайте вспомним первую задачу. Если вы её сделали, то помните, что ошибка аппроксимации многочленом шестой степени довольно высокая. Убедитесь, что, используя регуляризацию с хорошо подобранным коэффициентом $\\lambda$, ошибку на тестовой выборке можно сделать не больше, чем для многочлена оптимальной степени в модели без регрессии. Для этого $\\lambda$ сравните $\\det(X^TX)$ и $\\det(X^TX + \\lambda E)$."
   ]
  },
  {
   "cell_type": "markdown",
   "metadata": {},
   "source": [
    "**Решение:**\n",
    "\n",
    "1. Напишу функцию, осуществляющую регуляризацию."
   ]
  },
  {
   "cell_type": "code",
   "execution_count": 754,
   "metadata": {},
   "outputs": [],
   "source": [
    "def regularize(X, y, lambda_value):\n",
    "    return ((scipy.linalg.inv(X.T.dot(X) + lambda_value * np.eye(len(X.T.dot(X))))).dot(X.T)).dot(y)"
   ]
  },
  {
   "cell_type": "markdown",
   "metadata": {},
   "source": [
    "2. Найду оптимальное значение $\\lambda$."
   ]
  },
  {
   "cell_type": "code",
   "execution_count": 962,
   "metadata": {},
   "outputs": [
    {
     "name": "stdout",
     "output_type": "stream",
     "text": [
      "error on polynomial with optimal degree (3): 0.3553464571518524\n",
      "error before regularization: 2.5816929327779343\n",
      "optimal lambda: 1.1579999999999833\n",
      "error after regularization: 0.3073440933186541\n"
     ]
    }
   ],
   "source": [
    "for_graph_l2_y = []\n",
    "for_graph_l2_x = []\n",
    "\n",
    "k = 0.\n",
    "my_min_k = 0.\n",
    "my_min = mean_square_error(polynomial_coefficients(X_test, 6), regularize(polynomial_coefficients(X_train, 6), y_train, 0), y_test.T)\n",
    "print(\"error on polynomial with optimal degree (3):\", mean_square_error(polynomial_coefficients(X_test, 3), polynomial(X_train, 3, y_train), y_test.T))\n",
    "print(\"error before regularization:\", my_min)\n",
    "while k < 15:\n",
    "    for_graph_l2_x.append(k)\n",
    "    error_k = mean_square_error(polynomial_coefficients(X_test, 6), regularize(polynomial_coefficients(X_train, 6), y_train, k), y_test.T)\n",
    "    for_graph_l2_y.append(error_k)\n",
    "    if error_k < my_min:\n",
    "        my_min_k = k\n",
    "        my_min = error_k\n",
    "    k += 0.001\n",
    "print(\"optimal lambda:\", my_min_k)\n",
    "print(\"error after regularization:\", my_min)"
   ]
  },
  {
   "cell_type": "markdown",
   "metadata": {},
   "source": [
    "Чтобы показать, что такая $\\lambda$ действительно оптимальна, построю график зависимости среднеквадратической ошибки модели с регуляризацией от коэффициента регуляризации $k$. Как видно, значения ошибки при $k$, больших $\\lambda$, возрастают и вряд ли при каком-то другом значении $k = k_0 > \\lambda$ знаечние ошибки модели при данном $k = k_0$ будет ниже, чем при $k$, равном найденному значению $\\lambda$."
   ]
  },
  {
   "cell_type": "code",
   "execution_count": 963,
   "metadata": {},
   "outputs": [
    {
     "data": {
      "image/png": "[encoded data removed]",
      "text/plain": [
       "<Figure size 1152x1152 with 1 Axes>"
      ]
     },
     "metadata": {
      "needs_background": "light"
     },
     "output_type": "display_data"
    }
   ],
   "source": [
    "plt.figure(figsize=(16, 16))\n",
    "plt.plot(for_graph_l2_x, for_graph_l2_y)\n",
    "plt.show()"
   ]
  },
  {
   "cell_type": "markdown",
   "metadata": {
    "jupyter": {
     "outputs_hidden": true
    }
   },
   "source": [
    "3. Сравню их определители."
   ]
  },
  {
   "cell_type": "code",
   "execution_count": 964,
   "metadata": {},
   "outputs": [
    {
     "name": "stdout",
     "output_type": "stream",
     "text": [
      "new det 1012.5548470327516\n",
      "old det 9.082864838378161e-12\n"
     ]
    }
   ],
   "source": [
    "X_tmp = polynomial_coefficients(X_train, 6)\n",
    "print(\"new det\", np.linalg.det(X_tmp.T.dot(X_tmp) + my_min_k * np.eye(len(X_tmp.T.dot(X_tmp)))))\n",
    "print(\"old det\", np.linalg.det(X_tmp.T.dot(X_tmp)))"
   ]
  },
  {
   "cell_type": "markdown",
   "metadata": {},
   "source": [
    "Определитель увеличился, что доказывает, что, используя регуляризацию с хорошо подобранным коэффициентом $\\lambda$, ошибку на тестовой выборке можно сделать не больше, чем для многочлена оптимальной степени в модели без регрессии. Чем меньше определитель матрицы $X^TX$, тем хуже аппроксимация в силу проблемы мультиколлинеарности, которая устранилась после регуляризации, как видно из полученных значений определителя до и после неё."
   ]
  },
  {
   "cell_type": "markdown",
   "metadata": {},
   "source": [
    "Нарисуйте на одном чертеже графики многочленов шестой степени, приближающих неизвестную функцию, для модели с регуляризацией и без. Чем первый из них выгодно отличается от второго?"
   ]
  },
  {
   "cell_type": "markdown",
   "metadata": {
    "jupyter": {
     "outputs_hidden": true
    }
   },
   "source": [
    "Построю требуемые графики."
   ]
  },
  {
   "cell_type": "code",
   "execution_count": 965,
   "metadata": {},
   "outputs": [
    {
     "data": {
      "image/png": "[encoded data removed]",
      "text/plain": [
       "<Figure size 1080x1080 with 1 Axes>"
      ]
     },
     "metadata": {
      "needs_background": "light"
     },
     "output_type": "display_data"
    }
   ],
   "source": [
    "fig, ax = plt.subplots()\n",
    "plt.scatter(X_train[:,0], y_train)\n",
    "\n",
    "g_i_l2_x = []\n",
    "g_i_l2_y = []\n",
    "for_graph_l2_y = []\n",
    "for x in X_test[:,0]:\n",
    "    g_i_l2_x.append(x)\n",
    "    g_i_l2_y.append(polynomial_equals(polynomial(X_train, 6, y_train), x))\n",
    "    for_graph_l2_y.append(polynomial_equals(regularize(polynomial_coefficients(X_train, 6), y_train, my_min_k), x))\n",
    "\n",
    "ax.plot(g_i_l2_x, for_graph_l2_y, label = 'new model')\n",
    "ax.plot(g_i_l2_x, g_i_l2_y, label = 'old model')\n",
    "\n",
    "ax.legend()\n",
    "fig.set_figheight(15)\n",
    "fig.set_figwidth(15)\n",
    "plt.show()"
   ]
  },
  {
   "cell_type": "markdown",
   "metadata": {},
   "source": [
    "**Ответ:**\n",
    "\n",
    "Как видно, график новой модели отличается тем, что является заметно более гладким. Это может быть полезным, например, в силу того, что, таким образом, в модели с регуляризацией меньше точек излома, следовательно, больше точек, в которой производная непрерывна, а это позволяет эффективнее исследовать получившуюся модель с помощью инструментов математического анализа."
   ]
  },
  {
   "cell_type": "markdown",
   "metadata": {},
   "source": [
    "Попробуйте доказать, что вектор $a = (X^TX + \\lambda E)^{-1}X^Ty$ является решением задачи\n",
    "\n",
    "$$|Xa - y|^2 + \\lambda|a|^2\\rightarrow\\min$$\n",
    "\n",
    "Интуитивно это можно понимать так: мы ищем компромисс между минимизацией длины разности $|Xa - y|$ (то есть точностью решения задачи регрессии) и тем, чтобы компоненты вектора $a$ не становились слишком большими по модулю.\n",
    "\n",
    "---\n",
    "\n",
    "**Ваше решение напишите прямо здесь**\n",
    "1. Пусть $X$ имеет размерность $m \\times n$, $\\hat{a}$ — $n \\times 1$, $y$ — $m\\times 1$. Пусть $F_{\\lambda}(\\hat{a}) = |X\\hat{a} - y|^2 + \\lambda|\\hat{a}|^2$. \n",
    "2. Замечу, что $|\\hat{a}|^2 = \\sum_{i=1}^n(\\hat{a}_{1i}^2) = \\sum_{i=1}^n(\\hat{a}_{1i}\\hat{a}_{1i}) = \\hat{a}\\hat{a}^T$ Аналогично, $|X\\hat{a} - y|^2 = (X\\hat{a} - y)^T(X\\hat{a} - y)$.\n",
    "3. Вспомню лемму Ферма, которая верна для $R^n$. Тогда $F_{\\lambda}(\\hat{a}) = 0 <=> dF_{\\lambda}(\\hat{a}) = 0$.\n",
    "4. Найду $dF_{\\lambda}(\\hat{a})$. Из пункта 2 следует, что $(X\\hat{a} - y)^TXd\\hat{a}$ = $d\\hat{a}^TX^T(X\\hat{a} - y)$, $\\hat{a}^Td\\hat{a} = d\\hat{a}\\hat{a}^T$. Поэтому $dF_{\\lambda}(\\hat{a})$ = $d$$\\hat{a}X^T$$(X\\hat{a} - y)$ + $(X\\hat{a} - y)^TXd\\hat{a}$ + $\\lambda d\\hat{a}^T\\hat{a}$ + $\\lambda \\hat{a}da = 2d\\hat{a}X^T(X\\hat{a} - y)$ + $2\\lambda d\\hat{a}\\hat{a}$ = $2d\\hat{a}((X^TX + \\lambda E)\\hat{a} - X^Ty)$.\n",
    "5. Приравняю производную к нулю. Получу, что $(X^TX + \\lambda E)\\hat{a} = X^Ty$ при минимальном $\\hat{a}$, и такой минимальный вектор-столбец равен $\\hat{a}_{\\lambda} = (X^TX + \\lambda E)^{-1}X^Ty$ — решение этой системы, так как $(X^TX + \\lambda E) * (X^TX + \\lambda E)^{-1}X^Ty = X^Ty$, что и требовалось доказать."
   ]
  },
  {
   "cell_type": "markdown",
   "metadata": {},
   "source": [
    "### Задание 4. Онлайн-обучение линейной регрессии (3 балла)"
   ]
  },
  {
   "cell_type": "markdown",
   "metadata": {},
   "source": [
    "Раньше мы работали в ситуации, когда объекты $x_i$ и значения $y_i$ даны с самого начала и всегда доступны. Допустим теперь, что пары $(x_i, y_i)$ поступают к нам по одной и мы не можем себе позволить хранить их все в памяти (это может быть актуально, например, если вы пытаетесь обучить модель на устройстве со сравнительно небольшим количеством оперативной памяти: скажем, на мобильном телефоне или на бортовом компьютере спутника связи). В этом случае нам нужно уметь решать следующую задачу:\n",
    "\n",
    "**Известно:** решение задачи регрессии для датасета $(x_1, y_1),\\ldots,(x_t,y_t)$;\n",
    "\n",
    "**На вход поступает:** новая пара $(x_{t+1}, y_{t+1})$;\n",
    "\n",
    "**Требуется:** быстро (за время, не зависящее от $t$) отыскать решение задачи регрессии для расширенного датасета $(x_1, y_1),\\ldots,(x_t,y_t),(x_{t+1}, y_{t+1})$."
   ]
  },
  {
   "cell_type": "markdown",
   "metadata": {},
   "source": [
    "Эту задачу мы будем решать в два этапа.\n",
    "\n",
    "**Этап 1.** Введём обозначения $X_{(t)} = (x_1\\ldots x_t)$ и $y_{(t)} = (y_1,\\ldots,y_t)^T$. Тогда, как мы хорошо помним, решение задачи регрессии для датасета $(x_1, y_1),\\ldots,(x_t,y_t)$ имеет вид $\\hat{a}_{(t)} = \\left(X^T_{(t)}X_{(t)}\\right)^{-1}X^T_{(t)}y_{(t)}$. Размеры матриц $X^T_{(t)}X_{(t)}$ и $X^T_{(t)}y_{(t)}$ не зависят от $t$, поэтому их мы, пожалуй, можем себе позволить хранить в памяти.\n",
    "\n",
    "И вот ваше первое задание в этом разделе: придумайте алгоритм, принимающий на вход матрицы $X^T_{(t)}X_{(t)}$ и $X^T_{(t)}y_{(t)}$, а также пару $(x_{t+1}, y_{t+1})$ и вычисляющий матрицы $X^T_{(t+1)}X_{(t+1)}$ и $X^T_{(t+1)}y_{(t+1)}$. Сложность вашего алгоритма не должна зависеть от $t$!\n",
    "\n",
    "--\n",
    "\n",
    "**Описание вашего алгоритма напишите прямо здесь**\n",
    "1. Создается массив A и B размерностями $(t + 1) \\times (t + 1)$. В них записывюется матрицы $X^TX$ и $X^Ty$ соответственно. \n",
    "2. Последняя строка массива А заполняется так, что становится равной $(x_{t+1}, \\ldots, x_{t+1})$, после чего A[t][i] (индексы начинаются с нуля) умножается на (A[i][0] / $\\sqrt{A[0][0]}$). $t + 1$-й столбец массива —— это первый столбец (элементы вида A[0][i]), умноженный на $(x_{t+1}/\\sqrt{A[0][0]})$. Этот шаг даст верный результат, так как $i$-я строка матрицы-результата произведения вектор столбца и вектор-строки — это этот вектор-столбец, умноженный на $i$-й элемент вектор-строки. \n",
    "3. При умножении $(X_{(t+1)}^TX_{(t+1)})^{-1}$ на X_{(t+1)}^Ty_{(t+1)} получится матрица $(\\sum{k = 1}^n(x_{ik}x_{1k}y_{1k}))$, поэтому в B нужно добавить ещё одну строку из $x_{t+1}y_{t+1}$."
   ]
  },
  {
   "cell_type": "markdown",
   "metadata": {},
   "source": [
    "**Этап 2.** Теперь настало время написать немного кода и порисовать красивые картинки. Вам нужно будет реализовать симуляцию онлайн-обучения регрессии для задачи приближения функции (в данном случае $f_{true}(x) = 2x\\sin(x) + x^2 - 1$; все значения искажены небольшим нормальным шумом) многочленом степени не выше 5."
   ]
  },
  {
   "cell_type": "markdown",
   "metadata": {},
   "source": [
    "Пусть $A = X^TX$, $B = X^Ty$."
   ]
  },
  {
   "cell_type": "code",
   "execution_count": 961,
   "metadata": {},
   "outputs": [
    {
     "data": {
      "image/png": "[encoded data removed]",
      "text/plain": [
       "<Figure size 432x288 with 1 Axes>"
      ]
     },
     "metadata": {
      "needs_background": "light"
     },
     "output_type": "display_data"
    }
   ],
   "source": [
    "from IPython.display import clear_output\n",
    "import numpy as np\n",
    " \n",
    "f_true = lambda x: 2*x*np.sin(5*x) + x**2 - 1 # this is the true function\n",
    " \n",
    "# We need this to make the plot of f_true:\n",
    "x_grid = np.linspace(-2,5,100) # 100 linearly spaced numbers\n",
    "x_grid_enl = np.hstack((x_grid.reshape((100,1))**j for j in range(6)))\n",
    "y_grid = f_true(x_grid)\n",
    " \n",
    " \n",
    " \n",
    "for i in range(200):\n",
    " \n",
    "    x_new = np.random.uniform(-2, 5)\n",
    "    y_new = f_true(x_new) + 2*np.random.randn()\n",
    "   \n",
    "    # your code goes here\n",
    "    if 'A' not in locals():\n",
    "        A = np.zeros((6,6))\n",
    "    if 'B' not in locals():\n",
    "        B = np.array(np.zeros(6))\n",
    "        B.shape = (1, 6)\n",
    "    for k in range(6):\n",
    "        B[k] += x_new**(5 - k) * y_new\n",
    "        for j in range(6):\n",
    "            A[k,j] += x_new**(5 - k) * x_new**(5 - j)\n",
    " \n",
    "   \n",
    "    # the rest of code is just bells and whistles\n",
    "    if (i+1)%5==0:\n",
    "        clear_output(True)\n",
    "        plt.plot(x_grid,y_grid, color='blue', label='true f')\n",
    "        plt.scatter(x_new, y_new, color='red')\n",
    "       \n",
    "        # your code goes here\n",
    "        tmp = np.dot(np.linalg.inv(xtx), xty).T[0,:]\n",
    "        y_pred = np.dot(x_grid_enl, tmp)\n",
    "           \n",
    "       \n",
    "        plt.scatter(x_grid, y_pred, color='orange', linewidth=5, label='predicted f')\n",
    "       \n",
    "        plt.legend(loc='upper left')\n",
    "       \n",
    "        plt.show()"
   ]
  },
  {
   "cell_type": "markdown",
   "metadata": {},
   "source": [
    "### Добавление. QR-разложение"
   ]
  },
  {
   "cell_type": "markdown",
   "metadata": {},
   "source": [
    "**QR-разложением** матрицы $A$ (не обязательно квадратной) мы будем называть её представление в виде $A = QR$, где $Q$ &mdash; матрица с ортонормированными столбцами, а $R$ &mdash; верхнетреугольная матрица.\n",
    "\n",
    "Смысл QR-разложения следующий. Пусть $a_1,\\ldots,a_m$ &mdash; столбцы матрицы $A$, $q_1,\\ldots,q_t$ &mdash; столбцы матрицы $Q$. Тогда $q_1,\\ldots,q_t$ &mdash; это ортонормированный базис в подпространстве, являющемся линейной оболочкой векторов $a_1,\\ldots,a_m$, а в матрице $R$ записаны коэффициенты, с помощью которых $a_i$ выражаются через $q_1,\\ldots,q_t$.\n",
    "\n",
    "Находить QR-разложение заданной матрицы можно разными способами. Мы познакомим вас не с самым лучшим из них, но по крайней мере с наиболее простым концептуально. Заметим, что ортогональный базис линейной оболочки можно найти с помощью ортогонализации Грама-Шмидта. При этом коэффициенты из матрицы $R$ получаются в качестве побочного продукта этого процесса:\n",
    "\n",
    "```python\n",
    "for j = 1...n:\n",
    "    q_j = a_j\n",
    "    for i = 1,...,j-1:\n",
    "        r_ij = (q_i, a_j)\n",
    "        q_j = q_j - r_ij * q_i\n",
    "    r_jj = |q_j|\n",
    "    if r_jj == 0: # a_j in <a_1,...,a_j-1>\n",
    "        # What would you do in this case?..\n",
    "    q_j = q_j / r_jj\n",
    "```\n",
    "\n",
    "Для нахождения QR-разложения вы можете использовать библиотечную функцию `scipy.linalg.qr`."
   ]
  },
  {
   "cell_type": "markdown",
   "metadata": {},
   "source": [
    "Поскольку лабораторная про линейную регрессию, не так-то просто замять вопрос о том, какое же отношение QR-разложение имеет к задаче регрессии. Упомянем одно из возможных применений.\n",
    "\n",
    "Допустим, мы нашли QR-разложение матрицы $X$, а именно: $X = QR$. Тогда\n",
    "$$X^TX = (QR)^T(QR) = R^TQ^TQR = R^TR$$"
   ]
  },
  {
   "cell_type": "markdown",
   "metadata": {},
   "source": [
    "Поскольку в задаче регрессии матрица $X$ обычного полного ранга (то есть её столбцы линейно независимы), матрица $R$ будет квадратной. Благодаря этому нашу обычную формулу для набора регрессионных коэффициентов $\\hat{a}$ можно переписать в следующем виде:\n",
    "\n",
    "$$\\hat{a} = (X^TX)^{-1}X^Ty = (R^TR)^{-1}(QR)^Ty = R^{-1}(R^T)^{-1}R^TQ^Ty = R^{-1}Q^Ty$$\n",
    "\n",
    "Как видите, формула стала проще. Более того, зачастую обращение матрицы $R$ может быть численно более устойчиво, чем обращение матрицы $X^TX$."
   ]
  }
 ],
 "metadata": {
  "kernelspec": {
   "display_name": "Python 3",
   "language": "python",
   "name": "python3"
  },
  "language_info": {
   "codemirror_mode": {
    "name": "ipython",
    "version": 3
   },
   "file_extension": ".py",
   "mimetype": "text/x-python",
   "name": "python",
   "nbconvert_exporter": "python",
   "pygments_lexer": "ipython3",
   "version": "3.7.4"
  }
 },
 "nbformat": 4,
 "nbformat_minor": 4
}
